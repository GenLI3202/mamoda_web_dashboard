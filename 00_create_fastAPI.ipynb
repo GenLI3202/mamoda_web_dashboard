{
 "cells": [
  {
   "cell_type": "markdown",
   "metadata": {},
   "source": [
    "# Understanding Your FastAPI Backend (`main.py`)\n",
    "\n",
    "This notebook breaks down the `main.py` script block by block to explain how our new data engine works. Each section explains a concept and then shows the corresponding code from the file."
   ]
  },
  {
   "cell_type": "markdown",
   "metadata": {},
   "source": [
    "## Block 1: Imports\n",
    "\n",
    "This first block imports all the necessary libraries and modules that our application needs to function. Think of it as gathering your tools before you start building.\n",
    "\n",
    "- **uvicorn**: The high-performance server that will run our API.\n",
    "- **fastapi**: The main library for building the API itself.\n",
    "- **sqlalchemy**: The library for interacting with our `mining_knowledge.db` database.\n",
    "- **models**: This imports our `models.py` file so the API knows about our database table structure."
   ]
  },
  {
   "cell_type": "code",
   "execution_count": null,
   "metadata": {},
   "outputs": [],
   "source": [
    "import uvicorn\n",
    "from fastapi import FastAPI, HTTPException\n",
    "from fastapi.staticfiles import StaticFiles\n",
    "from sqlalchemy import create_engine, inspect\n",
    "from sqlalchemy.orm import sessionmaker\n",
    "from models import Base"
   ]
  },
  {
   "cell_type": "markdown",
   "metadata": {},
   "source": [
    "## Block 2: Database Setup\n",
    "\n",
    "This section establishes the connection to our SQLite database. It creates the `engine`, which is the core communication channel to the database file."
   ]
  },
  {
   "cell_type": "code",
   "execution_count": null,
   "metadata": {},
   "outputs": [],
   "source": [
    "DATABASE_URL = \"sqlite:///./mining_knowledge.db\"\n",
    "\n",
    "engine = create_engine(\n",
    "    DATABASE_URL, \n",
    "    connect_args={\"check_same_thread\": False} # A specific requirement for using SQLite with FastAPI\n",
    ")\n",
    "\n",
    "SessionLocal = sessionmaker(autocommit=False, autoflush=False, bind=engine)"
   ]
  },
  {
   "cell_type": "markdown",
   "metadata": {},
   "source": [
    "## Block 3: Create the FastAPI App\n",
    "\n",
    "This single line creates the main `app` object. This object is the heart of our API; we will attach all our URLs (endpoints) to it."
   ]
  },
  {
   "cell_type": "code",
   "execution_count": null,
   "metadata": {},
   "outputs": [],
   "source": [
    "app = FastAPI()"
   ]
  },
  {
   "cell_type": "markdown",
   "metadata": {},
   "source": [
    "## Block 4: API Endpoint to Get Table Names\n",
    "\n",
    "This is our first \"endpoint\". The `@app.get(\"/api/tables\")` line tells FastAPI that whenever a user goes to the URL `/api/tables`, the `get_table_names` function should run. This function uses SQLAlchemy's `inspect` tool to look inside the database and return a list of all the table names it finds."
   ]
  },
  {
   "cell_type": "code",
   "execution_count": null,
   "metadata": {},
   "outputs": [],
   "source": [
    "@app.get(\"/api/tables\")\n",
    "def get_table_names():\n",
    "    \"\"\"\n",
    "    This endpoint inspects the database and returns a list of all table names.\n",
    "    \"\"\"\n",
    "    inspector = inspect(engine)\n",
    "    table_names = inspector.get_table_names()\n",
    "    return table_names"
   ]
  },
  {
   "cell_type": "markdown",
   "metadata": {},
   "source": [
    "## Block 5: API Endpoint to Get Table Data\n",
    "\n",
    "This is a dynamic endpoint. The `{table_name}` in the URL is a variable. When the frontend requests `/api/table/practices`, FastAPI runs the `get_table_data` function and automatically passes the word `\"practices\"` into the `table_name` argument.\n",
    "\n",
    "The function then:\n",
    "1. Finds the correct Python model (e.g., the `Practice` class) that matches the table name.\n",
    "2. Queries the database for all records from that table.\n",
    "3. Converts the results into clean JSON and sends them back to the frontend."
   ]
  },
  {
   "cell_type": "code",
   "execution_count": null,
   "metadata": {},
   "outputs": [],
   "source": [
    "# Helper function to convert SQLAlchemy objects to dictionaries\n",
    "def object_as_dict(obj):\n",
    "    return {c.key: getattr(obj, c.key) for c in inspect(obj).mapper.column_attrs}\n",
    "\n",
    "@app.get(\"/api/table/{table_name}\")\n",
    "def get_table_data(table_name: str):\n",
    "    db = SessionLocal()\n",
    "    try:\n",
    "        ModelClass = None\n",
    "        for mapper in Base.registry.mappers:\n",
    "            if mapper.local_table.name == table_name:\n",
    "                ModelClass = mapper.class_\n",
    "                break\n",
    "        \n",
    "        if not ModelClass:\n",
    "            raise HTTPException(status_code=404, detail=\"Table not found\")\n",
    "\n",
    "        records = db.query(ModelClass).all()\n",
    "        result = [object_as_dict(rec) for rec in records]\n",
    "        return result\n",
    "    finally:\n",
    "        db.close()"
   ]
  },
  {
   "cell_type": "markdown",
   "metadata": {},
   "source": [
    "## Block 6: Serve the Frontend\n",
    "\n",
    "This final piece of code tells our FastAPI application to also act as a simple web server. Any request that doesn't match one of our API endpoints (like `/api/tables`) will be treated as a request for a static file.\n",
    "\n",
    "This is what allows a user to go to `http://localhost:8000` and get the `index.html` file, which then loads `style.css` and `script.js`. It's the replacement for the `python -m http.server` command."
   ]
  },
  {
   "cell_type": "code",
   "execution_count": null,
   "metadata": {},
   "outputs": [],
   "source": [
    "app.mount(\"/\", StaticFiles(directory=\".\", html=True), name=\"static\")"
   ]
  }
 ],
 "metadata": {
  "kernelspec": {
   "display_name": "Python 3",
   "language": "python",
   "name": "python3"
  },
  "language_info": {
   "codemirror_mode": {
    "name": "ipython",
    "version": 3
   },
   "file_extension": ".py",
   "mimetype": "text/x-python",
   "name": "python",
   "nbconvert_exporter": "python",
   "pygments_lexer": "ipython3",
   "version": "3.9.7"
  }
 },
 "nbformat": 4,
 "nbformat_minor": 2
}
