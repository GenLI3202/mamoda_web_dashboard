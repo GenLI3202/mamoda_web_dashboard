{
 "cells": [
  {
   "cell_type": "markdown",
   "metadata": {},
   "source": [
    "# Phase 2: Create and Seed the Database\n",
    "\n",
    "**Objective:** Bring our database to life by creating the physical `mining_knowledge.db` file and populating it with structured, validated sample data.\n",
    "\n",
    "**Workflow:**\n",
    "1.  **Define and test** the CRUD helper functions here in the notebook.\n",
    "2.  **Define** sample data for our models.\n",
    "3.  **Use** the helpers and data to seed the database.\n",
    "4.  **Finally, copy** the finalized CRUD functions into a new `helper_crud.py` file."
   ]
  },
  {
   "cell_type": "markdown",
   "metadata": {},
   "source": [
    "---\n",
    "## ✅ Part 1: Database and Session Setup\n",
    "\n",
    "First, we'll set up the connection to our SQLite database and create the tables from our models."
   ]
  },
  {
   "cell_type": "markdown",
   "id": "94c3d9f3",
   "metadata": {},
   "source": [
    "### TODO 1.1: Imports\n"
   ]
  },
  {
   "cell_type": "code",
   "execution_count": 1,
   "metadata": {},
   "outputs": [],
   "source": [
    "from sqlalchemy import create_engine\n",
    "from sqlalchemy.orm import sessionmaker\n",
    "import os\n",
    "from dotenv import load_dotenv\n",
    "from models import (    \n",
    "    Base,\n",
    "    SD_Objective,\n",
    "    SDG_Goal,\n",
    "    SDG_Target,\n",
    "    SDG_Indicator,\n",
    "    Practice,\n",
    "    Stakeholder_Group,\n",
    "    Stakeholder,\n",
    "    Concern,\n",
    "    PracticeToTargetLink,\n",
    "    StakeholderToConcernLink,\n",
    "    ConcernToTargetLink,\n",
    "    SDObjectiveToSDGLink)\n"
   ]
  },
  {
   "cell_type": "markdown",
   "metadata": {},
   "source": [
    "### TODO 1.2: Define Database URL and Create Engine\n",
    "\n",
    "**Your Task:** Set the database URL and create the SQLAlchemy engine."
   ]
  },
  {
   "cell_type": "code",
   "execution_count": 2,
   "metadata": {},
   "outputs": [
    {
     "name": "stdout",
     "output_type": "stream",
     "text": [
      "Engine created successfully using the URL from the .env file.\n"
     ]
    }
   ],
   "source": [
    "# This function will load variables from a .env file into your environment\n",
    "load_dotenv()\n",
    "\n",
    "# Retrieve the database URL from the environment.\n",
    "# os.getenv() returns None if the variable is not found.\n",
    "DATABASE_URL = os.getenv(\"DATABASE_URL\")\n",
    "\n",
    "# Check if the DATABASE_URL was loaded correctly\n",
    "if not DATABASE_URL:\n",
    "    raise ValueError(\"No DATABASE_URL found in the .env file or environment variables.\")\n",
    "\n",
    "# The 'echo=True' argument is very useful for development.\n",
    "# It makes SQLAlchemy log all the SQL statements it generates.\n",
    "engine = create_engine(DATABASE_URL, echo=True)\n",
    "\n",
    "print(f\"Engine created successfully using the URL from the .env file.\")"
   ]
  },
  {
   "cell_type": "markdown",
   "id": "4c9648d4",
   "metadata": {},
   "source": [
    "The advantages of using the `.env` file to define DATABASE_URL:\n",
    "- **Security**: You can add your .env file to .gitignore. This ensures that your database credentials or file paths are never accidentally committed to your public GitHub repository.\n",
    "\n",
    "- **Flexibility**: You can have different .env files for different environments (development, testing, production) without ever changing your Python code.\n",
    "\n",
    "- **Collaboration**: Your teammates can use their own local database configurations by simply creating their own .env file, making the project easier to set up for everyone."
   ]
  },
  {
   "cell_type": "markdown",
   "metadata": {},
   "source": [
    "### TODO 1.3: Create Database Tables\n",
    "\n",
    "**Your Task:** Execute this cell to create the `mining_knowledge.db` file and all the tables within it. **Run this cell only once.** If you run it again after seeding data, it won't delete the data, but it's good practice to think of this as a one-time setup step."
   ]
  },
  {
   "cell_type": "code",
   "execution_count": 3,
   "metadata": {},
   "outputs": [
    {
     "name": "stdout",
     "output_type": "stream",
     "text": [
      "2025-07-10 17:00:39,973 INFO sqlalchemy.engine.Engine BEGIN (implicit)\n",
      "2025-07-10 17:00:39,973 INFO sqlalchemy.engine.Engine PRAGMA main.table_info(\"sd_objectives\")\n",
      "2025-07-10 17:00:39,974 INFO sqlalchemy.engine.Engine [raw sql] ()\n",
      "2025-07-10 17:00:39,975 INFO sqlalchemy.engine.Engine PRAGMA main.table_info(\"sdg_goal\")\n",
      "2025-07-10 17:00:39,975 INFO sqlalchemy.engine.Engine [raw sql] ()\n",
      "2025-07-10 17:00:39,976 INFO sqlalchemy.engine.Engine PRAGMA main.table_info(\"practice\")\n",
      "2025-07-10 17:00:39,976 INFO sqlalchemy.engine.Engine [raw sql] ()\n",
      "2025-07-10 17:00:39,977 INFO sqlalchemy.engine.Engine PRAGMA main.table_info(\"sdg_target\")\n",
      "2025-07-10 17:00:39,977 INFO sqlalchemy.engine.Engine [raw sql] ()\n",
      "2025-07-10 17:00:39,978 INFO sqlalchemy.engine.Engine PRAGMA main.table_info(\"sdg_indicator\")\n",
      "2025-07-10 17:00:39,979 INFO sqlalchemy.engine.Engine [raw sql] ()\n",
      "2025-07-10 17:00:39,979 INFO sqlalchemy.engine.Engine PRAGMA main.table_info(\"stakeholder_group\")\n",
      "2025-07-10 17:00:39,980 INFO sqlalchemy.engine.Engine [raw sql] ()\n",
      "2025-07-10 17:00:39,980 INFO sqlalchemy.engine.Engine PRAGMA main.table_info(\"stakeholder\")\n",
      "2025-07-10 17:00:39,981 INFO sqlalchemy.engine.Engine [raw sql] ()\n",
      "2025-07-10 17:00:39,982 INFO sqlalchemy.engine.Engine PRAGMA main.table_info(\"concern\")\n",
      "2025-07-10 17:00:39,982 INFO sqlalchemy.engine.Engine [raw sql] ()\n",
      "2025-07-10 17:00:39,983 INFO sqlalchemy.engine.Engine PRAGMA main.table_info(\"practice_to_target_link\")\n",
      "2025-07-10 17:00:39,983 INFO sqlalchemy.engine.Engine [raw sql] ()\n",
      "2025-07-10 17:00:39,984 INFO sqlalchemy.engine.Engine PRAGMA main.table_info(\"stakeholder_to_concern_link\")\n",
      "2025-07-10 17:00:39,984 INFO sqlalchemy.engine.Engine [raw sql] ()\n",
      "2025-07-10 17:00:39,985 INFO sqlalchemy.engine.Engine PRAGMA main.table_info(\"concern_to_target_link\")\n",
      "2025-07-10 17:00:39,985 INFO sqlalchemy.engine.Engine [raw sql] ()\n",
      "2025-07-10 17:00:39,986 INFO sqlalchemy.engine.Engine PRAGMA main.table_info(\"sd_objective_to_sdg_link\")\n",
      "2025-07-10 17:00:39,986 INFO sqlalchemy.engine.Engine [raw sql] ()\n",
      "2025-07-10 17:00:39,987 INFO sqlalchemy.engine.Engine COMMIT\n",
      "Database 'mining_knowledge.db' and its tables have been created or verified successfully.\n"
     ]
    }
   ],
   "source": [
    "# This command connects to the database and creates all tables\n",
    "# that inherit from our 'Base' object in models.py\n",
    "Base.metadata.create_all(bind=engine)\n",
    "\n",
    "print(\"Database 'mining_knowledge.db' and its tables have been created or verified successfully.\")"
   ]
  },
  {
   "cell_type": "markdown",
   "metadata": {},
   "source": [
    "---\n",
    "## 🛠️ Part 2: CRUD Helper Functions (for `helper_crud.py`)\n",
    "\n",
    "Now, we will write the helper functions that will simplify our interactions with the database. Develop and test them in the cell below. Once they are working correctly, you can copy the entire content of the cell into a new `helper_crud.py` file."
   ]
  },
  {
   "cell_type": "markdown",
   "metadata": {},
   "source": [
    "### TODO 2.1 - 2.3: Create CRUD Helpers\n",
    "\n",
    "**Your Task:** Write the Python code for the following functions:\n",
    "1.  **Imports**: Import `Session`, all ORM models from `models`, and all `Create` schemas from `valid_schemas`.\n",
    "2.  **`get_or_create(db: Session, model, **kwargs)`**: A generic function to prevent creating duplicate entries.\n",
    "3.  **Specific `create_` functions**: For each model, write a function that takes a Pydantic `Create` schema and uses `get_or_create` to add it to the DB. For example: `create_practice(db: Session, practice: PracticeCreate)`."
   ]
  },
  {
   "cell_type": "code",
   "execution_count": 4,
   "metadata": {},
   "outputs": [
    {
     "name": "stdout",
     "output_type": "stream",
     "text": [
      "CRUD Helper functions defined and ready for use.\n"
     ]
    }
   ],
   "source": [
    "\n",
    "# 1. Imports\n",
    "from sqlalchemy.orm import Session\n",
    "# It's good practice to import the modules themselves to maintain namespace clarity.\n",
    "import models\n",
    "import valid_schemas\n",
    "\n",
    "# 2. Generic get_or_create function\n",
    "def get_or_create(db: Session, model, **kwargs):\n",
    "    \"\"\"\n",
    "    Checks if an instance of a model exists in the database.\n",
    "    If it exists, it returns the instance and False.\n",
    "    If not, it creates a new instance, adds it to the session, and returns it and True.\n",
    "    \"\"\"\n",
    "    # For models with composite keys, we filter by all primary key columns.\n",
    "    # For others, we can just use the provided kwargs.\n",
    "    instance = db.query(model).filter_by(**kwargs).first()\n",
    "    if instance:\n",
    "        return instance, False # Return instance and a flag indicating it was not created\n",
    "    else:\n",
    "        instance = model(**kwargs)\n",
    "        db.add(instance)\n",
    "        # Note: We don't commit here. The calling function is responsible for the commit.\n",
    "        return instance, True # Return instance and a flag indicating it was created\n",
    "\n",
    "# 3. Specific create functions for each model\n",
    "\n",
    "# --- Node Helpers ---\n",
    "\n",
    "def create_sd_objective(db: Session, objective: valid_schemas.SD_ObjectiveCreate):\n",
    "    db_obj, _ = get_or_create(db, models.SD_Objective, id=objective.id)\n",
    "    return db_obj\n",
    "\n",
    "def create_sdg_goal(db: Session, goal: valid_schemas.SDG_GoalCreate):\n",
    "    db_obj, _ = get_or_create(db, models.SDG_Goal, **goal.model_dump())\n",
    "    return db_obj\n",
    "\n",
    "def create_sdg_target(db: Session, target: valid_schemas.SDG_TargetCreate):\n",
    "    db_obj, _ = get_or_create(db, models.SDG_Target, **target.model_dump())\n",
    "    return db_obj\n",
    "\n",
    "def create_sdg_indicator(db: Session, indicator: valid_schemas.SDG_IndicatorCreate):\n",
    "    db_obj, _ = get_or_create(db, models.SDG_Indicator, **indicator.model_dump())\n",
    "    return db_obj\n",
    "\n",
    "def create_practice(db: Session, practice: valid_schemas.PracticeCreate):\n",
    "    db_obj, _ = get_or_create(db, models.Practice, **practice.model_dump())\n",
    "    return db_obj\n",
    "\n",
    "def create_stakeholder_group(db: Session, group: valid_schemas.Stakeholder_GroupCreate):\n",
    "    db_obj, _ = get_or_create(db, models.Stakeholder_Group, **group.model_dump())\n",
    "    return db_obj\n",
    "\n",
    "def create_stakeholder(db: Session, stakeholder: valid_schemas.StakeholderCreate):\n",
    "    db_obj, _ = get_or_create(db, models.Stakeholder, **stakeholder.model_dump())\n",
    "    return db_obj\n",
    "\n",
    "def create_concern(db: Session, concern: valid_schemas.ConcernCreate):\n",
    "    db_obj, _ = get_or_create(db, models.Concern, **concern.model_dump())\n",
    "    return db_obj\n",
    "\n",
    "# --- Link Helpers ---\n",
    "\n",
    "def create_practice_to_target_link(db: Session, link: valid_schemas.PracticeToTargetLinkCreate):\n",
    "    # For link tables with composite keys, we filter by the primary key fields\n",
    "    # to check for existence.\n",
    "    db_obj, _ = get_or_create(\n",
    "        db,\n",
    "        models.PracticeToTargetLink,\n",
    "        practice_id=link.practice_id,\n",
    "        target_id=link.target_id,\n",
    "        # If the link doesn't exist, the remaining data is used to create it.\n",
    "        **link.model_dump()\n",
    "    )\n",
    "    return db_obj\n",
    "\n",
    "def create_stakeholder_to_concern_link(db: Session, link: valid_schemas.StakeholderToConcernLinkCreate):\n",
    "    db_obj, _ = get_or_create(\n",
    "        db,\n",
    "        models.StakeholderToConcernLink,\n",
    "        stakeholder_id=link.stakeholder_id,\n",
    "        concern_id=link.concern_id,\n",
    "        **link.model_dump()\n",
    "    )\n",
    "    return db_obj\n",
    "\n",
    "def create_concern_to_target_link(db: Session, link: valid_schemas.ConcernToTargetLinkCreate):\n",
    "    db_obj, _ = get_or_create(\n",
    "        db,\n",
    "        models.ConcernToTargetLink,\n",
    "        concern_id=link.concern_id,\n",
    "        target_id=link.target_id,\n",
    "        **link.model_dump()\n",
    "    )\n",
    "    return db_obj\n",
    "\n",
    "def create_sd_objective_to_sdg_link(db: Session, link: valid_schemas.SDObjectiveToSDGLinkCreate):\n",
    "    db_obj, _ = get_or_create(\n",
    "        db,\n",
    "        models.SDObjectiveToSDGLink,\n",
    "        sd_objective_id=link.sd_objective_id,\n",
    "        sdg_goal_id=link.sdg_goal_id,\n",
    "        **link.model_dump()\n",
    "    )\n",
    "    return db_obj\n",
    "\n",
    "\n",
    "print(\"CRUD Helper functions defined and ready for use.\")"
   ]
  },
  {
   "cell_type": "markdown",
   "metadata": {},
   "source": [
    "---\n",
    "## 📝 Part 3: Prepare Sample Data\n",
    "\n",
    "Here, we'll define the sample data we want to insert into our database. The data should be structured as a list of dictionaries, where each dictionary matches a Pydantic `Create` schema."
   ]
  },
  {
   "cell_type": "markdown",
   "metadata": {},
   "source": [
    "### TODO 3.1 & 3.2: Define Sample Data for Nodes and Links\n",
    "\n",
    "**Your Task:** Create lists of dictionaries containing your sample data. I've provided a small example for `SD_Objective` and `Practice` to get you started."
   ]
  },
  {
   "cell_type": "code",
   "execution_count": null,
   "metadata": {},
   "outputs": [],
   "source": [
    "# TODO: Finish this part in Excel."
   ]
  },
  {
   "cell_type": "markdown",
   "metadata": {},
   "source": [
    "---\n",
    "## 🌱 Part 4: Seed the Database\n",
    "\n",
    "This is the final step where we put everything together. We'll create a database session, loop through our sample data, validate it with Pydantic, use our CRUD helpers to add it to the session, and finally commit all changes to the database."
   ]
  },
  {
   "cell_type": "markdown",
   "metadata": {},
   "source": [
    "### TODO 4.1 - 4.4: Seeding Script\n",
    "\n",
    "**Your Task:** Write the script to seed the database. Remember the correct order: **seed nodes first, then seed links** to ensure relational integrity."
   ]
  },
  {
   "cell_type": "code",
   "execution_count": null,
   "metadata": {},
   "outputs": [],
   "source": [
    "# Create a Session class to interact with the database\n",
    "SessionLocal = sessionmaker(autocommit=False, autoflush=False, bind=engine)\n",
    "\n",
    "# Create a new session\n",
    "db = SessionLocal()\n",
    "\n",
    "try:\n",
    "    print(\"--- Seeding Node Data ---\")\n",
    "    # Seed SD Objectives\n",
    "    for objective_data in sd_objectives_data:\n",
    "        pydantic_obj = valid_schemas.SD_ObjectiveCreate(**objective_data)\n",
    "        create_sd_objective(db=db, objective=pydantic_obj)\n",
    "    print(\"SD Objectives seeded.\")\n",
    "    \n",
    "    # Seed Practices\n",
    "    for practice_data in practices_data:\n",
    "        pydantic_obj = valid_schemas.PracticeCreate(**practice_data)\n",
    "        create_practice(db=db, practice=pydantic_obj)\n",
    "    print(\"Practices seeded.\")\n",
    "    \n",
    "    # ... Add seeding loops for all other Node types here ...\n",
    "\n",
    "    # Commit the nodes first to ensure they have IDs before creating links\n",
    "    db.commit()\n",
    "    print(\"\\n--- Node data committed ---\")\n",
    "    \n",
    "    print(\"\\n--- Seeding Link Data ---\")\n",
    "    # Seed PracticeToTarget Links\n",
    "    # (You would need a create_practice_to_target_link helper for this)\n",
    "    # for link_data in practice_to_target_links_data:\n",
    "    #     pydantic_obj = valid_schemas.PracticeToTargetLinkCreate(**link_data)\n",
    "    #     create_practice_to_target_link(db=db, link=pydantic_obj)\n",
    "    # print(\"Practice-to-Target links seeded.\")\n",
    "\n",
    "    # ... Add seeding loops for all other Link types here ...\n",
    "\n",
    "    # Final commit for the links\n",
    "    db.commit()\n",
    "    print(\"\\n--- Link data committed ---\")\n",
    "    \n",
    "    print(\"\\nDatabase seeding completed successfully!\")\n",
    "\n",
    "except Exception as e:\n",
    "    print(f\"An error occurred: {e}\")\n",
    "    db.rollback() # Roll back the transaction on error\n",
    "\n",
    "finally:\n",
    "    db.close() # Always close the session\n",
    "    print(\"\\nDatabase session closed.\")"
   ]
  }
 ],
 "metadata": {
  "kernelspec": {
   "display_name": "mining_knowledge",
   "language": "python",
   "name": "python3"
  },
  "language_info": {
   "codemirror_mode": {
    "name": "ipython",
    "version": 3
   },
   "file_extension": ".py",
   "mimetype": "text/x-python",
   "name": "python",
   "nbconvert_exporter": "python",
   "pygments_lexer": "ipython3",
   "version": "3.10.18"
  }
 },
 "nbformat": 4,
 "nbformat_minor": 5
}
