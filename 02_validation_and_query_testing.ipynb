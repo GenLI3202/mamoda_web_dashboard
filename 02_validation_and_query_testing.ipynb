{
 "cells": [
  {
   "cell_type": "markdown",
   "id": "71768141",
   "metadata": {},
   "source": [
    "# Phase 3: Validation and Query Testing\n",
    "\n",
    "**Objective:** To verify that the database has been created and seeded correctly, and to confirm that the SQLAlchemy ORM relationships allow for seamless navigation between connected data entities.\n",
    "\n",
    "---\n",
    "## Part 1: Setup and Database Connection\n",
    "\n",
    "First, we need to import the necessary libraries and establish a session with our `mining_knowledge.db` database.\n",
    "\n"
   ]
  },
  {
   "cell_type": "code",
   "execution_count": 1,
   "id": "5e70f37f",
   "metadata": {},
   "outputs": [
    {
     "name": "stdout",
     "output_type": "stream",
     "text": [
      "✅ Session created. Ready to query the database.\n"
     ]
    }
   ],
   "source": [
    "# TODO: Import necessary libraries\n",
    "# Import create_engine from sqlalchemy\n",
    "# Import sessionmaker from sqlalchemy.orm\n",
    "# Import all of your models from the 'models' module (e.g., Practice, SDG_Target, Stakeholder, etc.)\n",
    "# Import IntegrityError from sqlalchemy.exc to catch expected errors in negative tests\n",
    "\n",
    "# --- Database Connection ---\n",
    "# TODO: Create the database engine\n",
    "# Use create_engine(\"sqlite:///mining_knowledge.db\")\n",
    "\n",
    "# TODO: Create a SessionLocal class\n",
    "# Use sessionmaker, ensuring autocommit and autoflush are False\n",
    "\n",
    "# TODO: Create a new database session for this notebook\n",
    "# db = SessionLocal()\n",
    "\n",
    "print(\"✅ Session created. Ready to query the database.\")\n"
   ]
  },
  {
   "cell_type": "markdown",
   "id": "7afe4b12",
   "metadata": {},
   "source": [
    "### Example 1: Fetch a Practice and its linked Actions and Indicators\n",
    "This query validates the Practice -> PracticeToActionLink and Practice -> PracticeToMiningIndicatorLink relationships."
   ]
  },
  {
   "cell_type": "code",
   "execution_count": 2,
   "id": "fd0c6631",
   "metadata": {},
   "outputs": [
    {
     "ename": "NameError",
     "evalue": "name 'water_practice' is not defined",
     "output_type": "error",
     "traceback": [
      "\u001b[1;31m---------------------------------------------------------------------------\u001b[0m",
      "\u001b[1;31mNameError\u001b[0m                                 Traceback (most recent call last)",
      "Cell \u001b[1;32mIn[2], line 4\u001b[0m\n\u001b[0;32m      1\u001b[0m \u001b[38;5;66;03m# TODO: Fetch the 'Water and Effluents Management' practice by its ID ('p_water_mgmt')\u001b[39;00m\n\u001b[0;32m      2\u001b[0m \u001b[38;5;66;03m# water_practice = ...\u001b[39;00m\n\u001b[1;32m----> 4\u001b[0m \u001b[38;5;28mprint\u001b[39m(\u001b[38;5;124mf\u001b[39m\u001b[38;5;124m\"\u001b[39m\u001b[38;5;124mPRACTICE: \u001b[39m\u001b[38;5;132;01m{\u001b[39;00m\u001b[43mwater_practice\u001b[49m\u001b[38;5;241m.\u001b[39mname\u001b[38;5;132;01m}\u001b[39;00m\u001b[38;5;124m\"\u001b[39m)\n\u001b[0;32m      5\u001b[0m \u001b[38;5;28mprint\u001b[39m(\u001b[38;5;124m\"\u001b[39m\u001b[38;5;124m-\u001b[39m\u001b[38;5;124m\"\u001b[39m \u001b[38;5;241m*\u001b[39m \u001b[38;5;241m40\u001b[39m)\n\u001b[0;32m      7\u001b[0m \u001b[38;5;66;03m# TODO: Print the linked Actions\u001b[39;00m\n\u001b[0;32m      8\u001b[0m \u001b[38;5;66;03m# Loop through water_practice.action_links\u001b[39;00m\n\u001b[0;32m      9\u001b[0m \u001b[38;5;66;03m# For each link, print the name of the associated action (link.action.name)\u001b[39;00m\n",
      "\u001b[1;31mNameError\u001b[0m: name 'water_practice' is not defined"
     ]
    }
   ],
   "source": [
    "# TODO: Fetch the 'Water and Effluents Management' practice by its ID ('p_water_mgmt')\n",
    "# water_practice = ...\n",
    "\n",
    "print(f\"PRACTICE: {water_practice.name}\")\n",
    "print(\"-\" * 40)\n",
    "\n",
    "# TODO: Print the linked Actions\n",
    "# Loop through water_practice.action_links\n",
    "# For each link, print the name of the associated action (link.action.name)\n",
    "print(\"\\nLINKED ACTIONS:\")\n",
    "# for link in ...:\n",
    "#     print(f\"  -> { ... }\")\n",
    "\n",
    "\n",
    "# TODO: Print the linked Mining Indicators\n",
    "# Loop through water_practice.mining_indicator_links\n",
    "# For each link, print the indicator's name and the impact score from the link table\n",
    "print(\"\\nAFFECTED MINING INDICATORS:\")\n",
    "# for link in ...:\n",
    "#     indicator = ...\n",
    "#     print(f\"  -> {indicator.name} (Impact Score: {link.impact_score})\")\n",
    "\n"
   ]
  },
  {
   "cell_type": "markdown",
   "id": "feb650f0",
   "metadata": {},
   "source": [
    "### Example 2: Fetch a Stakeholder and list their Concerns\n",
    "This query validates the Stakeholder -> StakeholderToConcernLink -> Concern relationship."
   ]
  },
  {
   "cell_type": "code",
   "execution_count": 3,
   "id": "3a1c71b0",
   "metadata": {},
   "outputs": [
    {
     "ename": "NameError",
     "evalue": "name 'local_community' is not defined",
     "output_type": "error",
     "traceback": [
      "\u001b[1;31m---------------------------------------------------------------------------\u001b[0m",
      "\u001b[1;31mNameError\u001b[0m                                 Traceback (most recent call last)",
      "Cell \u001b[1;32mIn[3], line 4\u001b[0m\n\u001b[0;32m      1\u001b[0m \u001b[38;5;66;03m# TODO: Fetch the 'Local Communities' stakeholder by its name\u001b[39;00m\n\u001b[0;32m      2\u001b[0m \u001b[38;5;66;03m# local_community = ...\u001b[39;00m\n\u001b[1;32m----> 4\u001b[0m \u001b[38;5;28mprint\u001b[39m(\u001b[38;5;124mf\u001b[39m\u001b[38;5;124m\"\u001b[39m\u001b[38;5;124mSTAKEHOLDER: \u001b[39m\u001b[38;5;132;01m{\u001b[39;00m\u001b[43mlocal_community\u001b[49m\u001b[38;5;241m.\u001b[39mname\u001b[38;5;132;01m}\u001b[39;00m\u001b[38;5;124m\"\u001b[39m)\n\u001b[0;32m      5\u001b[0m \u001b[38;5;28mprint\u001b[39m(\u001b[38;5;124m\"\u001b[39m\u001b[38;5;124m-\u001b[39m\u001b[38;5;124m\"\u001b[39m \u001b[38;5;241m*\u001b[39m \u001b[38;5;241m40\u001b[39m)\n\u001b[0;32m      7\u001b[0m \u001b[38;5;66;03m# TODO: Print the linked Concerns\u001b[39;00m\n\u001b[0;32m      8\u001b[0m \u001b[38;5;66;03m# Loop through local_community.concern_links\u001b[39;00m\n\u001b[0;32m      9\u001b[0m \u001b[38;5;66;03m# For each link, print the concern's name and the priority weight from the link table\u001b[39;00m\n",
      "\u001b[1;31mNameError\u001b[0m: name 'local_community' is not defined"
     ]
    }
   ],
   "source": [
    "# TODO: Fetch the 'Local Communities' stakeholder by its name\n",
    "# local_community = ...\n",
    "\n",
    "print(f\"STAKEHOLDER: {local_community.name}\")\n",
    "print(\"-\" * 40)\n",
    "\n",
    "# TODO: Print the linked Concerns\n",
    "# Loop through local_community.concern_links\n",
    "# For each link, print the concern's name and the priority weight from the link table\n",
    "print(\"\\nDECLARED CONCERNS:\")\n",
    "# for link in ...:\n",
    "#     concern = ...\n",
    "#     print(f\"  -> {concern.name} (Priority: {link.priority_weight.value})\")\n"
   ]
  },
  {
   "cell_type": "markdown",
   "id": "83538837",
   "metadata": {},
   "source": [
    "### Example 3: Multi-Step Traversal\n",
    "This query answers a complex question by chaining relationships: Which mining practices impact the project indicators that are most important to our key stakeholders' concerns?\n"
   ]
  },
  {
   "cell_type": "code",
   "execution_count": 4,
   "id": "8fc736e4",
   "metadata": {},
   "outputs": [
    {
     "ename": "NameError",
     "evalue": "name 'local_community' is not defined",
     "output_type": "error",
     "traceback": [
      "\u001b[1;31m---------------------------------------------------------------------------\u001b[0m",
      "\u001b[1;31mNameError\u001b[0m                                 Traceback (most recent call last)",
      "Cell \u001b[1;32mIn[4], line 2\u001b[0m\n\u001b[0;32m      1\u001b[0m \u001b[38;5;66;03m# Fetch the 'Local Communities' stakeholderlocal_community = db.query(Stakeholder).filter(Stakeholder.name == \"Local Communities\").one()\u001b[39;00m\n\u001b[1;32m----> 2\u001b[0m \u001b[38;5;28mprint\u001b[39m(\u001b[38;5;124mf\u001b[39m\u001b[38;5;124m\"\u001b[39m\u001b[38;5;124mANALYSIS FOR STAKEHOLDER: \u001b[39m\u001b[38;5;132;01m{\u001b[39;00m\u001b[43mlocal_community\u001b[49m\u001b[38;5;241m.\u001b[39mname\u001b[38;5;132;01m}\u001b[39;00m\u001b[38;5;124m\"\u001b[39m)\n\u001b[0;32m      3\u001b[0m \u001b[38;5;28mprint\u001b[39m(\u001b[38;5;124m\"\u001b[39m\u001b[38;5;124m==============================================\u001b[39m\u001b[38;5;124m\"\u001b[39m)\n\u001b[0;32m      4\u001b[0m \u001b[38;5;66;03m# 1. Find all concerns for this stakeholderforsh_link inlocal_community.concern_links:\u001b[39;00m\n",
      "\u001b[1;31mNameError\u001b[0m: name 'local_community' is not defined"
     ]
    }
   ],
   "source": [
    "\t\n",
    "# Fetch the 'Local Communities' stakeholderlocal_community = db.query(Stakeholder).filter(Stakeholder.name == \"Local Communities\").one()\n",
    "print(f\"ANALYSIS FOR STAKEHOLDER: {local_community.name}\")\n",
    "print(\"==============================================\")\n",
    "# 1. Find all concerns for this stakeholderforsh_link inlocal_community.concern_links:\n",
    "concern = sh_link.concern\n",
    "print(f\"\\nConcern: '{concern.name}' (Priority: {sh_link.priority_weight.value})\")\n",
    "print(\"---------------------------------\")\n",
    "    \n",
    "# 2. Find all SDG Targets linked to this concernforconcern_target_link inconcern.target_links:\n",
    "target = concern_target_link.target\n",
    "\n",
    "# 3. Find all Project Indicators that measure this SDG Targetforindic_target_link intarget.mining_indicator_links:\n",
    "indicator = indic_target_link.mining_indicator\n",
    "\n",
    "# 4. Finally, find all Practices that affect this indicatorforpractice_indic_link inindicator.practice_links:\n",
    "practice = practice_indic_link.practice\n",
    "print(f\"  -> Practice '{practice.name}' impacts Indicator '{indicator.name}' (Score: {practice_indic_link.impact_score}), which relates to this concern via SDG Target {target.id}.\")\n"
   ]
  },
  {
   "cell_type": "markdown",
   "id": "2e261a87",
   "metadata": {},
   "source": [
    "## Part 3: Negative Tests (Verifying Constraints)\n",
    "A negative test is designed to fail. This helps us confirm that our database constraints (like foreign keys) are working correctly and preventing invalid data from being inserted.\n",
    "\n",
    "Test: Attempt to create a link with a non-existent ID\n",
    "We will try to create a link between an existing practice and a `mining_indicator_id` that does not exist. We expect the database to raise an `IntegrityError`."
   ]
  },
  {
   "cell_type": "code",
   "execution_count": 5,
   "id": "eb736b91",
   "metadata": {},
   "outputs": [
    {
     "name": "stdout",
     "output_type": "stream",
     "text": [
      "\n",
      "--- Running Negative Test ---\n",
      "Attempting to create a link with a non-existent mining_indicator_id...\n"
     ]
    }
   ],
   "source": [
    "print(\"\\n--- Running Negative Test ---\")\n",
    "print(\"Attempting to create a link with a non-existent mining_indicator_id...\")\n",
    "\n",
    "# TODO: Write a try...except block to handle the expected error\n",
    "# try:\n",
    "#     # 1. Create an invalid link object using models.PracticeToMiningIndicatorLink\n",
    "#     #    Use an existing practice_id like 'p_water_mgmt'\n",
    "#     #    Use a non-existent mining_indicator_id like 'm999'\n",
    "#     invalid_link = ...\n",
    "#\n",
    "#     # 2. Add the invalid link to the session\n",
    "#     db.add(...)\n",
    "#\n",
    "#     # 3. Try to commit the session (this is where the error should occur)\n",
    "#     db.commit()\n",
    "#\n",
    "# except IntegrityError as e:\n",
    "#     # 4. If the error occurs, rollback the session and print a success message\n",
    "#     db.rollback()\n",
    "#     print(\"\\n✅ SUCCESS: The database correctly threw an IntegrityError, as expected.\")\n",
    "#     print(\"   This confirms our foreign key constraints are working.\")\n",
    "#\n",
    "# except Exception as e:\n",
    "#     # 5. If any other error occurs, print a failure message\n",
    "#     db.rollback()\n",
    "#     print(f\"\\n❌ FAILED: An unexpected error occurred: {e}\")\n",
    "\n"
   ]
  },
  {
   "cell_type": "code",
   "execution_count": null,
   "id": "e0649ba7",
   "metadata": {},
   "outputs": [],
   "source": [
    "# Close the database session\n",
    "db.close()\n",
    "\n",
    "print(\"\\nSession closed.\")"
   ]
  }
 ],
 "metadata": {
  "kernelspec": {
   "display_name": "mining_knowledge",
   "language": "python",
   "name": "python3"
  },
  "language_info": {
   "codemirror_mode": {
    "name": "ipython",
    "version": 3
   },
   "file_extension": ".py",
   "mimetype": "text/x-python",
   "name": "python",
   "nbconvert_exporter": "python",
   "pygments_lexer": "ipython3",
   "version": "3.10.18"
  }
 },
 "nbformat": 4,
 "nbformat_minor": 5
}
